{
 "cells": [
  {
   "cell_type": "markdown",
   "metadata": {},
   "source": [
    "### Deriving Backpropagation"
   ]
  },
  {
   "cell_type": "markdown",
   "metadata": {},
   "source": [
    "Multiple Input Single Output"
   ]
  },
  {
   "cell_type": "code",
   "execution_count": 92,
   "metadata": {},
   "outputs": [],
   "source": [
    "import numpy as np"
   ]
  },
  {
   "cell_type": "code",
   "execution_count": 93,
   "metadata": {},
   "outputs": [],
   "source": [
    "def sigmoid(x):\n",
    "    out = 1/(1 + np.exp(-x))\n",
    "    return out\n",
    "\n",
    "def sigmoid_deriv(x):\n",
    "    out = x * (1 - x)\n",
    "    return out"
   ]
  },
  {
   "cell_type": "code",
   "execution_count": 94,
   "metadata": {},
   "outputs": [],
   "source": [
    "def linear(inp , weight):\n",
    "    out = np.dot(weight , inp)\n",
    "    return out"
   ]
  },
  {
   "cell_type": "code",
   "execution_count": 95,
   "metadata": {},
   "outputs": [],
   "source": [
    "def neural_network(inp , weight , bias):\n",
    "    out = np.array([0 , 0])\n",
    "    assert(len(inp) == len(weight))\n",
    "    for i in range(len(out)):\n",
    "        out[i] = (linear(inp , weight.T[i]) + bias[i])\n",
    "    \n",
    "    out = sigmoid(out)\n",
    "    return out "
   ]
  },
  {
   "cell_type": "code",
   "execution_count": 96,
   "metadata": {},
   "outputs": [],
   "source": [
    "def cost_func(h , y):\n",
    "    cost = -np.sum((y * np.log(h) + (1 - y) * np.log(1 - h)))\n",
    "    return cost"
   ]
  },
  {
   "cell_type": "code",
   "execution_count": 97,
   "metadata": {},
   "outputs": [],
   "source": [
    "def train_backprop(inp , weight , bias , epochs , step , original_output):\n",
    "    \n",
    "    for i in range(epochs):\n",
    "        \n",
    "        pred = neural_network(inp , weight , bias)\n",
    "        loss = cost_func(pred , original_output)\n",
    "        print('Loss --->' , loss)\n",
    "        \n",
    "        dh = (-(original_output / pred) + (1 - original_output) / (1 - pred)).reshape(2 , 1)\n",
    "        dz = dh * (sigmoid_deriv(pred).reshape(2,1))\n",
    "        dz.reshape(2 , 1)\n",
    "        dw = (np.dot(dz , inp.reshape(3,1).T))\n",
    "        db = dz\n",
    "        \n",
    "        weight = weight - step * dw.T\n",
    "        bias = bias - step * db"
   ]
  },
  {
   "cell_type": "code",
   "execution_count": 102,
   "metadata": {},
   "outputs": [
    {
     "name": "stdout",
     "output_type": "stream",
     "text": [
      "Loss ---> 0.13364335953209058\n",
      "Loss ---> 0.13364335953209058\n",
      "Loss ---> 0.13364335953209058\n",
      "Loss ---> 0.13364335953209058\n",
      "Loss ---> 0.13364335953209058\n",
      "Loss ---> 0.13364335953209058\n",
      "Loss ---> 0.13364335953209058\n",
      "Loss ---> 0.13364335953209058\n",
      "Loss ---> 0.13364335953209058\n",
      "Loss ---> 0.13364335953209058\n",
      "Loss ---> 0.13364335953209058\n",
      "Loss ---> 0.13364335953209058\n",
      "Loss ---> 0.05530270006285985\n",
      "Loss ---> 0.05530270006285985\n",
      "Loss ---> 0.05530270006285985\n",
      "Loss ---> 0.05530270006285985\n",
      "Loss ---> 0.05530270006285985\n",
      "Loss ---> 0.05530270006285985\n",
      "Loss ---> 0.05530270006285985\n",
      "Loss ---> 0.05530270006285985\n",
      "Loss ---> 0.05530270006285985\n",
      "Loss ---> 0.05530270006285985\n",
      "Loss ---> 0.05530270006285985\n",
      "Loss ---> 0.05530270006285985\n",
      "Loss ---> 0.05530270006285985\n",
      "Loss ---> 0.05530270006285985\n",
      "Loss ---> 0.05530270006285985\n",
      "Loss ---> 0.05530270006285985\n",
      "Loss ---> 0.05530270006285985\n",
      "Loss ---> 0.05530270006285985\n",
      "Loss ---> 0.05530270006285985\n",
      "Loss ---> 0.05530270006285985\n",
      "Loss ---> 0.05530270006285985\n",
      "Loss ---> 0.05530270006285985\n",
      "Loss ---> 0.05530270006285985\n",
      "Loss ---> 0.05530270006285985\n",
      "Loss ---> 0.05530270006285985\n",
      "Loss ---> 0.05530270006285985\n",
      "Loss ---> 0.05530270006285985\n",
      "Loss ---> 0.05530270006285985\n",
      "Loss ---> 0.05530270006285985\n",
      "Loss ---> 0.05530270006285985\n",
      "Loss ---> 0.05530270006285985\n",
      "Loss ---> 0.05530270006285985\n",
      "Loss ---> 0.05530270006285985\n",
      "Loss ---> 0.05530270006285985\n",
      "Loss ---> 0.05530270006285985\n",
      "Loss ---> 0.05530270006285985\n",
      "Loss ---> 0.05530270006285985\n",
      "Loss ---> 0.05530270006285985\n",
      "Loss ---> 0.05530270006285985\n",
      "Loss ---> 0.05530270006285985\n",
      "Loss ---> 0.05530270006285985\n",
      "Loss ---> 0.05530270006285985\n",
      "Loss ---> 0.05530270006285985\n",
      "Loss ---> 0.05530270006285985\n",
      "Loss ---> 0.05530270006285985\n",
      "Loss ---> 0.024865276406927674\n",
      "Loss ---> 0.024865276406927674\n",
      "Loss ---> 0.024865276406927674\n",
      "Loss ---> 0.024865276406927674\n",
      "Loss ---> 0.024865276406927674\n",
      "Loss ---> 0.024865276406927674\n",
      "Loss ---> 0.024865276406927674\n",
      "Loss ---> 0.024865276406927674\n",
      "Loss ---> 0.024865276406927674\n",
      "Loss ---> 0.024865276406927674\n",
      "Loss ---> 0.024865276406927674\n",
      "Loss ---> 0.024865276406927674\n",
      "Loss ---> 0.024865276406927674\n",
      "Loss ---> 0.024865276406927674\n",
      "Loss ---> 0.024865276406927674\n",
      "Loss ---> 0.024865276406927674\n",
      "Loss ---> 0.024865276406927674\n",
      "Loss ---> 0.024865276406927674\n",
      "Loss ---> 0.024865276406927674\n",
      "Loss ---> 0.024865276406927674\n",
      "Loss ---> 0.024865276406927674\n",
      "Loss ---> 0.024865276406927674\n",
      "Loss ---> 0.024865276406927674\n",
      "Loss ---> 0.024865276406927674\n",
      "Loss ---> 0.024865276406927674\n",
      "Loss ---> 0.024865276406927674\n",
      "Loss ---> 0.024865276406927674\n",
      "Loss ---> 0.024865276406927674\n",
      "Loss ---> 0.024865276406927674\n",
      "Loss ---> 0.024865276406927674\n",
      "Loss ---> 0.024865276406927674\n",
      "Loss ---> 0.024865276406927674\n",
      "Loss ---> 0.024865276406927674\n",
      "Loss ---> 0.024865276406927674\n",
      "Loss ---> 0.024865276406927674\n",
      "Loss ---> 0.024865276406927674\n",
      "Loss ---> 0.024865276406927674\n",
      "Loss ---> 0.024865276406927674\n",
      "Loss ---> 0.024865276406927674\n",
      "Loss ---> 0.024865276406927674\n",
      "Loss ---> 0.024865276406927674\n",
      "Loss ---> 0.024865276406927674\n",
      "Loss ---> 0.024865276406927674\n"
     ]
    }
   ],
   "source": [
    "inp  = np.array([1,2,3])\n",
    "weight = np.array([[0.1,0.4],[0.2,0.5] , [0.3 , 0.6]])\n",
    "bias = np.array([1,2]).reshape(2 ,1)\n",
    "epochs = 100\n",
    "step = 0.03\n",
    "original_output = np.array([1 , 1]) \n",
    "\n",
    "train_backprop(inp , weight , bias , epochs , step , original_output)"
   ]
  }
 ],
 "metadata": {
  "kernelspec": {
   "display_name": "Python 3",
   "language": "python",
   "name": "python3"
  },
  "language_info": {
   "codemirror_mode": {
    "name": "ipython",
    "version": 3
   },
   "file_extension": ".py",
   "mimetype": "text/x-python",
   "name": "python",
   "nbconvert_exporter": "python",
   "pygments_lexer": "ipython3",
   "version": "3.7.4"
  }
 },
 "nbformat": 4,
 "nbformat_minor": 2
}
