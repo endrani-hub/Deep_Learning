{
 "cells": [
  {
   "cell_type": "markdown",
   "metadata": {},
   "source": [
    "## Single input single output"
   ]
  },
  {
   "cell_type": "code",
   "execution_count": 1,
   "metadata": {},
   "outputs": [],
   "source": [
    "import math"
   ]
  },
  {
   "cell_type": "code",
   "execution_count": 2,
   "metadata": {},
   "outputs": [],
   "source": [
    "def sigmoid(x):\n",
    "    val = 1/(1 + math.exp(-x))\n",
    "    return val\n",
    "\n",
    "def neural_network(inp , weight , bias):\n",
    "    z = inp * weight + bias\n",
    "    out = sigmoid(z)\n",
    "    return out"
   ]
  },
  {
   "cell_type": "code",
   "execution_count": 5,
   "metadata": {},
   "outputs": [
    {
     "data": {
      "text/plain": [
       "0.7502601055951177"
      ]
     },
     "execution_count": 5,
     "metadata": {},
     "output_type": "execute_result"
    }
   ],
   "source": [
    "weight = 0.1\n",
    "inp = 1\n",
    "bias = 1\n",
    "\n",
    "neural_network(inp , weight , bias)"
   ]
  },
  {
   "cell_type": "markdown",
   "metadata": {},
   "source": [
    "## Multiple input single output"
   ]
  },
  {
   "cell_type": "code",
   "execution_count": 12,
   "metadata": {},
   "outputs": [],
   "source": [
    "def weighted_sum(inp , weight):\n",
    "    assert(len(weight) == len(inp))\n",
    "    out = 0\n",
    "    for i in range(len(weight)):\n",
    "        out = out + weight[i] * inp[i]\n",
    "    return out\n",
    "\n",
    "def new_neural_network(inp , weight , bias):\n",
    "    assert(len(weight) == len(inp))\n",
    "    out = sigmoid(weighted_sum(inp , weight) + bias)\n",
    "    return out"
   ]
  },
  {
   "cell_type": "code",
   "execution_count": 15,
   "metadata": {},
   "outputs": [
    {
     "data": {
      "text/plain": [
       "0.9168273035060777"
      ]
     },
     "execution_count": 15,
     "metadata": {},
     "output_type": "execute_result"
    }
   ],
   "source": [
    "weight = [0.1 , 0.2 , 0.3]\n",
    "inp = [1, 2 ,3]\n",
    "bias = 1\n",
    "\n",
    "new_neural_network(inp , weight , bias)"
   ]
  },
  {
   "cell_type": "markdown",
   "metadata": {},
   "source": [
    "## Single input multiple output"
   ]
  },
  {
   "cell_type": "code",
   "execution_count": 19,
   "metadata": {},
   "outputs": [],
   "source": [
    "def basic_linear(inp , weight , bias):\n",
    "    out = inp * weight + bias\n",
    "    return out\n",
    "    \n",
    "def new_network(weight , inp , bias):\n",
    "    out = [0 , 0 , 0]\n",
    "    assert(len(out) == len(weight))\n",
    "    for i in range(len(weight)):\n",
    "        out[i] = sigmoid(basic_linear(inp , weight[i] , bias[i]))\n",
    "    \n",
    "    return out"
   ]
  },
  {
   "cell_type": "code",
   "execution_count": 21,
   "metadata": {},
   "outputs": [
    {
     "data": {
      "text/plain": [
       "[0.7502601055951177, 0.9002495108803148, 0.9644288107273639]"
      ]
     },
     "execution_count": 21,
     "metadata": {},
     "output_type": "execute_result"
    }
   ],
   "source": [
    "weight = [0.1 , 0.2 , 0.3]\n",
    "inp = 1\n",
    "bias = [1 , 2 , 3]\n",
    "\n",
    "new_network(weight , inp , bias)"
   ]
  },
  {
   "cell_type": "markdown",
   "metadata": {},
   "source": [
    "## Multiple Input Multiple Output"
   ]
  },
  {
   "cell_type": "markdown",
   "metadata": {},
   "source": [
    "Our present day basic Neural Network!"
   ]
  },
  {
   "cell_type": "code",
   "execution_count": 39,
   "metadata": {},
   "outputs": [],
   "source": [
    "def weighted_sum(inp , weight):\n",
    "    assert(len(inp) == len(weight))\n",
    "    out = 0\n",
    "    for i in range(len(inp)):\n",
    "        out = out + inp[i] * weight[i]\n",
    "    return out\n",
    "\n",
    "def neural_network(inp , weight , bias):\n",
    "    assert(len(inp) == len(weight[0]))\n",
    "    out = [0 , 0]\n",
    "    for i in range(len(out)):\n",
    "        out[i] = sigmoid(weighted_sum(inp , weight[i]) + bias[i])\n",
    "    \n",
    "    return out"
   ]
  },
  {
   "cell_type": "code",
   "execution_count": 40,
   "metadata": {
    "scrolled": true
   },
   "outputs": [
    {
     "data": {
      "text/plain": [
       "[0.9168273035060777, 0.9945137011005495]"
      ]
     },
     "execution_count": 40,
     "metadata": {},
     "output_type": "execute_result"
    }
   ],
   "source": [
    "weight = [[0.1,0.2,0.3],[0.4,0.5,0.6]]\n",
    "bias = [1,2]\n",
    "inp = [1,2,3]\n",
    "\n",
    "neural_network(inp , weight, bias)"
   ]
  },
  {
   "cell_type": "markdown",
   "metadata": {},
   "source": [
    "## NUMPY implementation"
   ]
  },
  {
   "cell_type": "code",
   "execution_count": 2,
   "metadata": {},
   "outputs": [],
   "source": [
    "import numpy as np"
   ]
  },
  {
   "cell_type": "markdown",
   "metadata": {},
   "source": [
    "## Single Input Single Output"
   ]
  },
  {
   "cell_type": "code",
   "execution_count": 7,
   "metadata": {},
   "outputs": [],
   "source": [
    "def sigmoid(x):\n",
    "    out = 1/(1 + np.exp(-x))\n",
    "    return out"
   ]
  },
  {
   "cell_type": "code",
   "execution_count": 14,
   "metadata": {},
   "outputs": [],
   "source": [
    "def neural_net(inp , weight, bias):\n",
    "    out = sigmoid(inp * weight + bias)\n",
    "    return out"
   ]
  },
  {
   "cell_type": "code",
   "execution_count": 15,
   "metadata": {},
   "outputs": [
    {
     "data": {
      "text/plain": [
       "0.7502601055951177"
      ]
     },
     "execution_count": 15,
     "metadata": {},
     "output_type": "execute_result"
    }
   ],
   "source": [
    "weight = 0.1\n",
    "inp = 1\n",
    "bias = 1\n",
    "\n",
    "neural_net(inp , weight , bias)"
   ]
  },
  {
   "cell_type": "markdown",
   "metadata": {},
   "source": [
    "## Multiple Input Single Output"
   ]
  },
  {
   "cell_type": "code",
   "execution_count": 16,
   "metadata": {},
   "outputs": [],
   "source": [
    "def neural_network(inp, weight, bias):\n",
    "    assert(len(inp) == len(weight))\n",
    "    out = sigmoid(np.dot(weight , inp) + bias)\n",
    "    return out"
   ]
  },
  {
   "cell_type": "code",
   "execution_count": 17,
   "metadata": {},
   "outputs": [
    {
     "data": {
      "text/plain": [
       "0.9168273035060777"
      ]
     },
     "execution_count": 17,
     "metadata": {},
     "output_type": "execute_result"
    }
   ],
   "source": [
    "weight = np.array([0.1 , 0.2 , 0.3])\n",
    "inp = np.array([1, 2 ,3])\n",
    "bias = 1\n",
    "\n",
    "neural_network(inp , weight , bias)"
   ]
  },
  {
   "cell_type": "markdown",
   "metadata": {},
   "source": [
    "## Single Input Multiple Output"
   ]
  },
  {
   "cell_type": "code",
   "execution_count": 24,
   "metadata": {},
   "outputs": [],
   "source": [
    "def new_neural_net(inp , weight , bias):\n",
    "    assert(len(bias) == len(weight))\n",
    "    \n",
    "    out =  np.zeros((len(weight) , 1))\n",
    "    \n",
    "    for i in range(len(out)):   \n",
    "        out[i] = sigmoid(inp * weight[i] + bias[i])\n",
    "\n",
    "    return out"
   ]
  },
  {
   "cell_type": "code",
   "execution_count": 25,
   "metadata": {},
   "outputs": [
    {
     "data": {
      "text/plain": [
       "array([[0.75026011],\n",
       "       [0.90024951],\n",
       "       [0.96442881]])"
      ]
     },
     "execution_count": 25,
     "metadata": {},
     "output_type": "execute_result"
    }
   ],
   "source": [
    "weight = np.array([0.1 , 0.2 , 0.3])\n",
    "inp = 1\n",
    "bias = np.array([1 , 2 , 3])\n",
    "\n",
    "new_neural_net(inp ,weight, bias)"
   ]
  },
  {
   "cell_type": "markdown",
   "metadata": {},
   "source": [
    "## Multiple Input Multiple Output"
   ]
  },
  {
   "cell_type": "code",
   "execution_count": 29,
   "metadata": {},
   "outputs": [],
   "source": [
    "def neural_net(inp ,weight, bias):\n",
    "    assert(len(inp) == len(weight[0]))\n",
    "    \n",
    "    out = np.zeros((len(bias),1))\n",
    "    \n",
    "    for i in range(len(out)):\n",
    "        out[i] = sigmoid(np.dot(weight[i] , inp) + bias[i])\n",
    "    \n",
    "    return out"
   ]
  },
  {
   "cell_type": "code",
   "execution_count": 31,
   "metadata": {},
   "outputs": [
    {
     "data": {
      "text/plain": [
       "array([[0.9168273],\n",
       "       [0.9945137]])"
      ]
     },
     "execution_count": 31,
     "metadata": {},
     "output_type": "execute_result"
    }
   ],
   "source": [
    "weight = np.array([[0.1,0.2,0.3],[0.4,0.5,0.6]])\n",
    "bias = np.array([1,2])\n",
    "inp = np.array([1,2,3])\n",
    "\n",
    "neural_net(inp , weight, bias)"
   ]
  }
 ],
 "metadata": {
  "kernelspec": {
   "display_name": "Python 3",
   "language": "python",
   "name": "python3"
  },
  "language_info": {
   "codemirror_mode": {
    "name": "ipython",
    "version": 3
   },
   "file_extension": ".py",
   "mimetype": "text/x-python",
   "name": "python",
   "nbconvert_exporter": "python",
   "pygments_lexer": "ipython3",
   "version": "3.7.4"
  }
 },
 "nbformat": 4,
 "nbformat_minor": 2
}
